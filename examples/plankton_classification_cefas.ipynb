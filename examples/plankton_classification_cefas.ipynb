{
 "cells": [
  {
   "cell_type": "markdown",
   "metadata": {},
   "source": [
    "# End-to-end `scivision` pipeline for a pretrained/prebuilt model for plankton classification\n",
    "\n",
    "This notebook demonstrates `scivision` to load a pretrained `ResNet50` model suited to predict plankton species from images captured by Plantkon Image . `detectreeRGB` was implemented in python 3.8 using Mask R-CNN deployed from [detectron2](https://github.com/facebookresearch/detectron2/blob/main/docs/tutorials/install.md) library to delineate tree crowns accurately.\n",
    "Further details of the challenge can be found in [the original model repository](https://github.com/alan-turing-institute/plankton-dsg-challenge).\n",
    "\n",
    "The code of this notebook let `scivision` to fetch input data from:\n",
    "TODO (current version using a toy xarray dataset)\n",
    "\n",
    "and load the pretrained `detectreeRGB` from:\n",
    "https://github.com/alan-turing-institute/plankton-cefas-scivision"
   ]
  },
  {
   "cell_type": "markdown",
   "metadata": {},
   "source": [
    "## Install libraries"
   ]
  },
  {
   "cell_type": "code",
   "execution_count": 1,
   "metadata": {
    "gather": {
     "logged": 1637758888059
    },
    "jupyter": {
     "outputs_hidden": false,
     "source_hidden": false
    },
    "nteract": {
     "transient": {
      "deleting": false
     }
    }
   },
   "outputs": [],
   "source": [
    "!pip install scivision"
   ]
  },
  {
   "cell_type": "markdown",
   "metadata": {},
   "source": [
    "## Load libraries"
   ]
  },
  {
   "cell_type": "code",
   "execution_count": 2,
   "metadata": {
    "gather": {
     "logged": 1637758888163
    }
   },
   "outputs": [],
   "source": [
    "from scivision.io import load_pretrained_model\n",
    "import numpy as np\n",
    "import xarray as xr"
   ]
  },
  {
   "cell_type": "markdown",
   "metadata": {
    "pycharm": {
     "name": "#%% md\n"
    }
   },
   "source": [
    "## Model"
   ]
  },
  {
   "cell_type": "code",
   "metadata": {
    "pycharm": {
     "name": "#%%\n"
    }
   },
   "source": [
    "# Load model\n",
    "scivision_yml = 'https://github.com/alan-turing-institute/plankton-cefas-scivision/.scivision-config.yaml'\n",
    "model = load_pretrained_model(scivision_yml, allow_install=True)"
   ],
   "execution_count": null,
   "outputs": []
  },
  {
   "cell_type": "code",
   "execution_count": 4,
   "metadata": {},
   "outputs": [],
   "source": [
    "# let's explore the model object\n",
    "model"
   ]
  },
  {
   "cell_type": "markdown",
   "metadata": {
    "gather": {
     "logged": 1637754654394
    },
    "jupyter": {
     "outputs_hidden": false,
     "source_hidden": false
    },
    "nteract": {
     "transient": {
      "deleting": false
     }
    },
    "pycharm": {
     "name": "#%% md\n"
    }
   },
   "source": [
    "## Data"
   ]
  },
  {
   "cell_type": "code",
   "execution_count": 6,
   "metadata": {},
   "outputs": [
    {
     "data": {
      "text/plain": [
       "scivision.PretrainedModel( \n",
       "  module='scivision_plankton_models', \n",
       "  model='resnet50_label3', \n",
       "  source='https://github.com/acocac/scivision-plankton-models' \n",
       "  pipe='DataPipe(input=<Parameter \"X: numpy.ndarray\">, output=<Parameter \"image: numpy.ndarray\">)' \n",
       ")"
      ]
     },
     "execution_count": 6,
     "metadata": {},
     "output_type": "execute_result"
    }
   ],
   "source": [
    "# recreate plankton Xarray Dataset\n",
    "\n",
    "N = 15\n",
    "\n",
    "image = np.random.randint(255, size=(900, 800, 3), dtype=np.uint8)\n",
    "\n",
    "ds = np.array([image] * N)\n",
    "\n",
    "ds = xr.DataArray(ds, dims=['concat_dim','y', 'x', 'channel'],\n",
    "                        coords={'concat_dim':  np.arange(ds.shape[0]),\n",
    "                                'y': np.arange(ds.shape[1]),\n",
    "                                'x': np.arange(ds.shape[2]),\n",
    "                                'channel': np.arange(ds.shape[3])})\n",
    "\n",
    "ds = ds.to_dataset(name='raster')\n",
    "\n",
    "ds = ds.assign(\n",
    "    image_width = np.random.randint(500, 600),\n",
    "    image_length = np.random.randint(500, 600)\n",
    ")"
   ]
  },
  {
   "cell_type": "markdown",
   "metadata": {
    "pycharm": {
     "name": "#%% md\n"
    }
   },
   "source": [
    "## Prediction and visualisation"
   ]
  },
  {
   "cell_type": "code",
   "execution_count": 9,
   "metadata": {
    "pycharm": {
     "name": "#%%\n"
    }
   },
   "outputs": [
    {
     "name": "stdout",
     "output_type": "stream",
     "text": [
      "236\n"
     ]
    }
   ],
   "source": [
    "y = model.predict(ds)"
   ]
  }
 ],
 "metadata": {
  "kernel_info": {
   "name": "scivis-plankton"
  },
  "kernelspec": {
   "display_name": "Python (scivis-plankton)",
   "language": "python",
   "name": "scivis-plankton"
  },
  "language_info": {
   "codemirror_mode": {
    "name": "ipython",
    "version": 3
   },
   "file_extension": ".py",
   "mimetype": "text/x-python",
   "name": "python",
   "nbconvert_exporter": "python",
   "pygments_lexer": "ipython3",
   "version": "3.8.8"
  },
  "microsoft": {
   "host": {
    "AzureML": {
     "notebookHasBeenCompleted": true
    }
   }
  },
  "nteract": {
   "version": "nteract-front-end@1.0.0"
  }
 },
 "nbformat": 4,
 "nbformat_minor": 5
}