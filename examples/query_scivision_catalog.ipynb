{
 "cells": [
  {
   "cell_type": "markdown",
   "id": "80bdabba",
   "metadata": {},
   "source": [
    "## test notebook for querying scivision catalogs"
   ]
  },
  {
   "cell_type": "code",
   "execution_count": 1,
   "id": "b707f974",
   "metadata": {},
   "outputs": [],
   "source": [
    "from scivision import catalog"
   ]
  },
  {
   "cell_type": "code",
   "execution_count": 2,
   "id": "3ce05a93",
   "metadata": {},
   "outputs": [],
   "source": [
    "my_query = {\n",
    "    \"institution\": \"alan-turing-institute\", \n",
    "    \"domain\": \"earth-observation\", \n",
    "    \"task\": \"segmentation\",\n",
    "}"
   ]
  },
  {
   "cell_type": "code",
   "execution_count": 3,
   "id": "0a278e0b",
   "metadata": {},
   "outputs": [
    {
     "data": {
      "text/plain": [
       "[{'task': 'segmentation',\n",
       "  'domain': 'earth-observation',\n",
       "  'datasource': 'empiar-10340',\n",
       "  'model': 'github.com/alan-turing-institute/cv-algortithm',\n",
       "  'github_branch': 'master',\n",
       "  'language': 'R',\n",
       "  'institution': 'alan-turing-institute',\n",
       "  'tags': \"['help-needed']\"},\n",
       " {'task': 'segmentation',\n",
       "  'domain': 'earth-observation',\n",
       "  'datasource': 'intake-catalog-1.yml',\n",
       "  'model': 'github.com/alan-turing-institute/cv-algortithm',\n",
       "  'github_branch': 'master',\n",
       "  'language': 'Python3',\n",
       "  'institution': 'alan-turing-institute',\n",
       "  'tags': \"['help-needed']\"}]"
      ]
     },
     "execution_count": 3,
     "metadata": {},
     "output_type": "execute_result"
    }
   ],
   "source": [
    "catalog.query(my_query)"
   ]
  },
  {
   "cell_type": "code",
   "execution_count": 4,
   "id": "ef62ac35",
   "metadata": {},
   "outputs": [
    {
     "data": {
      "text/plain": [
       "['task',\n",
       " 'domain',\n",
       " 'datasource',\n",
       " 'model',\n",
       " 'github_branch',\n",
       " 'language',\n",
       " 'institution',\n",
       " 'tags']"
      ]
     },
     "execution_count": 4,
     "metadata": {},
     "output_type": "execute_result"
    }
   ],
   "source": [
    "catalog.keys()"
   ]
  },
  {
   "cell_type": "code",
   "execution_count": 5,
   "metadata": {},
   "outputs": [
    {
     "data": {
      "text/plain": [
       "['segmentation',\n",
       " 'feature-extraction',\n",
       " 'object-detection',\n",
       " 'classification',\n",
       " 'measurement']"
      ]
     },
     "execution_count": 5,
     "metadata": {},
     "output_type": "execute_result"
    }
   ],
   "source": [
    "catalog.values(\"task\")"
   ]
  },
  {
   "cell_type": "code",
   "execution_count": 7,
   "metadata": {},
   "outputs": [
    {
     "ename": "TypeError",
     "evalue": "query() missing 1 required positional argument: 'query'",
     "output_type": "error",
     "traceback": [
      "\u001b[0;31m---------------------------------------------------------------------------\u001b[0m",
      "\u001b[0;31mTypeError\u001b[0m                                 Traceback (most recent call last)",
      "\u001b[0;32m/var/folders/cw/g03qkb894c19n6qsvnpyfjkr0000gn/T/ipykernel_42332/2715441273.py\u001b[0m in \u001b[0;36m<module>\u001b[0;34m\u001b[0m\n\u001b[0;32m----> 1\u001b[0;31m \u001b[0mcatalog\u001b[0m\u001b[0;34m.\u001b[0m\u001b[0mquery\u001b[0m\u001b[0;34m(\u001b[0m\u001b[0;34m)\u001b[0m\u001b[0;34m\u001b[0m\u001b[0;34m\u001b[0m\u001b[0m\n\u001b[0m",
      "\u001b[0;31mTypeError\u001b[0m: query() missing 1 required positional argument: 'query'"
     ]
    }
   ],
   "source": [
    "catalog.query()"
   ]
  },
  {
   "cell_type": "code",
   "execution_count": null,
   "metadata": {},
   "outputs": [],
   "source": []
  }
 ],
 "metadata": {
  "kernelspec": {
   "display_name": "Python 3 (ipykernel)",
   "language": "python",
   "name": "python3"
  },
  "language_info": {
   "codemirror_mode": {
    "name": "ipython",
    "version": 3
   },
   "file_extension": ".py",
   "mimetype": "text/x-python",
   "name": "python",
   "nbconvert_exporter": "python",
   "pygments_lexer": "ipython3",
   "version": "3.9.5"
  }
 },
 "nbformat": 4,
 "nbformat_minor": 5
}
