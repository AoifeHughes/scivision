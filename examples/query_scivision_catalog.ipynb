{
 "cells": [
  {
   "cell_type": "markdown",
   "id": "80bdabba",
   "metadata": {},
   "source": [
    "## test notebook for querying scivision catalogs"
   ]
  },
  {
   "cell_type": "code",
   "execution_count": 1,
   "id": "b707f974",
   "metadata": {},
   "outputs": [],
   "source": [
    "from scivision import catalog, get_koala_log"
   ]
  },
  {
   "cell_type": "code",
   "execution_count": 2,
   "id": "3ce05a93",
   "metadata": {},
   "outputs": [],
   "source": [
    "my_query = {\n",
    "    \"institution\": \"alan-turing-institute\", \n",
    "    \"domain\": \"earth-observation\", \n",
    "    \"task\": \"segmentation\",\n",
    "}"
   ]
  },
  {
   "cell_type": "code",
   "execution_count": 3,
   "id": "0a278e0b",
   "metadata": {},
   "outputs": [
    {
     "data": {
      "text/plain": [
       "[{'task': 'segmentation',\n",
       "  'domain': 'earth-observation',\n",
       "  'datasource': 'empiar-10340',\n",
       "  'model': 'github.com/alan-turing-institute/cv-algortithm',\n",
       "  'github_branch': 'master',\n",
       "  'language': 'R',\n",
       "  'institution': 'alan-turing-institute',\n",
       "  'tags': \"['help-needed']\",\n",
       "  'scivision_yaml_filename': 'nan'},\n",
       " {'task': 'segmentation',\n",
       "  'domain': 'earth-observation',\n",
       "  'datasource': 'intake-catalog-1.yml',\n",
       "  'model': 'github.com/alan-turing-institute/cv-algortithm',\n",
       "  'github_branch': 'master',\n",
       "  'language': 'Python3',\n",
       "  'institution': 'alan-turing-institute',\n",
       "  'tags': \"['help-needed']\",\n",
       "  'scivision_yaml_filename': 'nan'}]"
      ]
     },
     "execution_count": 3,
     "metadata": {},
     "output_type": "execute_result"
    }
   ],
   "source": [
    "catalog.query(my_query)"
   ]
  },
  {
   "cell_type": "code",
   "execution_count": 4,
   "id": "ef62ac35",
   "metadata": {},
   "outputs": [
    {
     "data": {
      "text/plain": [
       "['task',\n",
       " 'domain',\n",
       " 'datasource',\n",
       " 'model',\n",
       " 'github_branch',\n",
       " 'language',\n",
       " 'institution',\n",
       " 'tags',\n",
       " 'scivision_yaml_filename']"
      ]
     },
     "execution_count": 4,
     "metadata": {},
     "output_type": "execute_result"
    }
   ],
   "source": [
    "catalog.keys()"
   ]
  },
  {
   "cell_type": "code",
   "execution_count": 5,
   "id": "625d65d4",
   "metadata": {},
   "outputs": [
    {
     "data": {
      "text/plain": [
       "['feature-extraction',\n",
       " 'object-detection',\n",
       " 'segmentation',\n",
       " 'classification',\n",
       " 'measurement']"
      ]
     },
     "execution_count": 5,
     "metadata": {},
     "output_type": "execute_result"
    }
   ],
   "source": [
    "catalog.values(\"task\")"
   ]
  },
  {
   "cell_type": "code",
   "execution_count": 7,
   "id": "f45761d2",
   "metadata": {},
   "outputs": [
    {
     "name": "stdout",
     "output_type": "stream",
     "text": [
      "KOALA [INFO][2021/07/30 11:29:21 AM] Call='query', module='scivision.catalog.catalog'\n",
      "KOALA [INFO][2021/07/30 11:29:21 AM] Call='keys', module='scivision.catalog.catalog'\n",
      "KOALA [INFO][2021/07/30 11:29:21 AM] Call='values', module='scivision.catalog.catalog'\n",
      "\n"
     ]
    }
   ],
   "source": [
    "print(get_koala_log())"
   ]
  },
  {
   "cell_type": "code",
   "execution_count": null,
   "id": "a527bb2c",
   "metadata": {},
   "outputs": [],
   "source": []
  }
 ],
 "metadata": {
  "kernelspec": {
   "display_name": "Python 3",
   "language": "python",
   "name": "python3"
  },
  "language_info": {
   "codemirror_mode": {
    "name": "ipython",
    "version": 3
   },
   "file_extension": ".py",
   "mimetype": "text/x-python",
   "name": "python",
   "nbconvert_exporter": "python",
   "pygments_lexer": "ipython3",
   "version": "3.8.8"
  }
 },
 "nbformat": 4,
 "nbformat_minor": 5
}
