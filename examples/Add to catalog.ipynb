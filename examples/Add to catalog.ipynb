{
 "cells": [
  {
   "cell_type": "markdown",
   "id": "4229676f",
   "metadata": {},
   "source": [
    "# Adding to the Scivision catalog of models and datasets\n",
    "\n",
    "In this notebook, we demonstrate how you can add your model or dataset to the scivision catalog, which is hosted on GitHub at: https://github.com/alan-turing-institute/scivision-catalog\n",
    "\n",
    "First, make sure scivision is installed:\n",
    "```{python}\n",
    "pip install scivision\n",
    "```\n",
    "\n",
    "You can then import the functions for adding to the catalog like so:"
   ]
  },
  {
   "cell_type": "code",
   "execution_count": null,
   "id": "1bb53c6f",
   "metadata": {},
   "outputs": [],
   "source": [
    "from scivision.catalog import add_dataset, add_model, pull_catalogs"
   ]
  },
  {
   "cell_type": "code",
   "execution_count": null,
   "id": "9ce9a12c",
   "metadata": {},
   "outputs": [],
   "source": [
    "pull_catalogs()"
   ]
  },
  {
   "cell_type": "markdown",
   "id": "7a5130f4",
   "metadata": {},
   "source": [
    "## Adding a dataset to scivision\n",
    "\n",
    "Create a json file containing the metadata for your dataset, including a link to it with the `datasource` key:"
   ]
  },
  {
   "cell_type": "code",
   "execution_count": null,
   "id": "4ae766ce",
   "metadata": {},
   "outputs": [],
   "source": [
    "%%writefile 'drop_bear_dataset.json'\n",
    "{\n",
    "    \"Dropbear\":{\n",
    "    \"task\":[\"object-detection\"],\n",
    "    \"domain\":[\"computer-vision\"],\n",
    "    \"datasource\":\"https://en.wikipedia.org/wiki/Drop_bear#/media/File:Dropbear.jpg\",\n",
    "    \"format\":\"jpg\",\n",
    "    \"labels\":\"yes\",\n",
    "    \"institution\":\"Wikipedia\",\n",
    "    \"tags\":[\n",
    "      \"test\",\n",
    "      \"animal\"\n",
    "    ]\n",
    "  }\n",
    "}"
   ]
  },
  {
   "cell_type": "markdown",
   "id": "52e1f1d0",
   "metadata": {},
   "source": [
    "You can then run the`add_dataset` function, which will attempt to add the data entry to the scivision catalog via a pull request, which should to appear at: https://github.com/alan-turing-institute/scivision-catalog/pulls"
   ]
  },
  {
   "cell_type": "code",
   "execution_count": null,
   "id": "c22dbde7",
   "metadata": {},
   "outputs": [],
   "source": [
    "add_dataset('drop_bear_dataset.json', 'github')"
   ]
  },
  {
   "cell_type": "markdown",
   "id": "82cfd843",
   "metadata": {},
   "source": [
    "### WARNING: Do not commit your GitHub access token this notebook!\n",
    "\n",
    "e.g. from your cli run: `nbstripout this_notebook.ipynb`"
   ]
  },
  {
   "cell_type": "markdown",
   "id": "e199e5d5",
   "metadata": {},
   "source": [
    "## Adding a model to scivision\n",
    "\n",
    "Create a json file containing the metadata for your model, including a link to the repo containing it with the `model` key:"
   ]
  },
  {
   "cell_type": "code",
   "execution_count": null,
   "id": "5c0fbb24",
   "metadata": {},
   "outputs": [],
   "source": [
    "%%writefile 'test_model.json'\n",
    "{\n",
    "    \"Turing test plugin\":{\n",
    "    \"task\":\"object-detection\",\n",
    "    \"model\":\"https://github.com/alan-turing-institute/scivision-test-plugin\",\n",
    "    \"github_branch\":\"master\",\n",
    "    \"language\":\"Python3\",\n",
    "    \"data_format\":\"jpg\",\n",
    "    \"pretrained\":\"yes\",\n",
    "    \"labels_required\":\"no\",\n",
    "    \"institution\":\"alan-turing-institute\",\n",
    "    \"tags\": [\"dummy\"]\n",
    "    }\n",
    "}"
   ]
  },
  {
   "cell_type": "code",
   "execution_count": null,
   "id": "dd409616",
   "metadata": {},
   "outputs": [],
   "source": [
    "add_model('test_model.json', 'github')"
   ]
  },
  {
   "cell_type": "markdown",
   "id": "1b98c8e6",
   "metadata": {},
   "source": [
    "# TODO: [Add section showing how to query catalog]"
   ]
  }
 ],
 "metadata": {
  "kernelspec": {
   "display_name": "Python 3 (ipykernel)",
   "language": "python",
   "name": "python3"
  },
  "language_info": {
   "codemirror_mode": {
    "name": "ipython",
    "version": 3
   },
   "file_extension": ".py",
   "mimetype": "text/x-python",
   "name": "python",
   "nbconvert_exporter": "python",
   "pygments_lexer": "ipython3",
   "version": "3.9.7"
  }
 },
 "nbformat": 4,
 "nbformat_minor": 5
}
