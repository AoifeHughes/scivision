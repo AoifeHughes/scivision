{
 "cells": [
  {
   "cell_type": "markdown",
   "metadata": {},
   "source": [
    "# Use a pretrained ImageNet model via `scivision`\n",
    "\n",
    "(Work in Progress)\n",
    "\n",
    "In this notebook, we will:\n",
    "\n",
    "1. load a model from the following test repo:\n",
    "https://github.com/quantumjot/scivision-test-plugin\n",
    "2. find matching datasets\n",
    "3. perform a simple model inference on an image of a koala"
   ]
  },
  {
   "cell_type": "code",
   "execution_count": null,
   "metadata": {},
   "outputs": [],
   "source": [
    "%load_ext autoreload\n",
    "%autoreload 2\n",
    "%matplotlib inline"
   ]
  },
  {
   "cell_type": "code",
   "execution_count": null,
   "metadata": {},
   "outputs": [],
   "source": [
    "from scivision.io import load_pretrained_model\n",
    "from scivision.catalog import catalog"
   ]
  },
  {
   "cell_type": "markdown",
   "metadata": {},
   "source": [
    "## Load the database and query a model"
   ]
  },
  {
   "cell_type": "code",
   "execution_count": null,
   "metadata": {
    "scrolled": true
   },
   "outputs": [],
   "source": [
    "# Query a certain model\n",
    "query_dict = {'model': 'https://github.com/quantumjot/scivision-test-plugin'}\n",
    "\n",
    "queryO = catalog.query(query_dict)\n",
    "queryO"
   ]
  },
  {
   "cell_type": "markdown",
   "metadata": {},
   "source": [
    "`query_dict`, in the above cell, can take other keys/values, e.g.:\n",
    "\n",
    "```python\n",
    "query_dict = {'task': 'object-detection'}\n",
    "```\n",
    "\n",
    "We can specify more than one key/value pair, and the specified conditioned will be joined by: `\" & \".join(queries)`\n",
    "\n",
    "---\n",
    "\n",
    "In the above cell, we queried two datasets stored here: \n",
    "\n",
    "https://github.com/alan-turing-institute/scivision/tree/main/scivision/catalog/data\n",
    "\n",
    "Also, you can access them via:\n",
    "\n",
    "```python\n",
    "# models\n",
    "catalog._catalog._models\n",
    "# data sources\n",
    "catalog._catalog._datasources\n",
    "```"
   ]
  },
  {
   "cell_type": "code",
   "execution_count": null,
   "metadata": {
    "pycharm": {
     "name": "#%%\n"
    }
   },
   "outputs": [],
   "source": [
    "# let's subset the second entry, a baby koala\n",
    "target = queryO[1]\n",
    "target"
   ]
  },
  {
   "cell_type": "markdown",
   "metadata": {},
   "source": [
    "## Load a model"
   ]
  },
  {
   "cell_type": "markdown",
   "metadata": {},
   "source": [
    "Each model contains a `scivision` config file, for example, see: https://github.com/quantumjot/scivision-test-plugin/blob/main/.scivision-config_imagenet.yaml\n",
    "\n",
    "There are different ways to specify the path to the config file:\n",
    "\n",
    "```python\n",
    "config_path = target['model'] + \"/\" + '.scivision-config_imagenet.yaml'\n",
    "```\n",
    "\n",
    "`scivision` will construct the correct github path.\n",
    "\n",
    "Or:\n",
    "\n",
    "```python\n",
    "config_path = \"https://github.com/quantumjot/scivision-test-plugin/blob/main/.scivision-config_imagenet.yaml\"\n",
    "```\n",
    "\n",
    "Or:\n",
    "\n",
    "```python\n",
    "config_path = \"https://raw.githubusercontent.com/quantumjot/scivision-test-plugin/main/.scivision-config_imagenet.yaml\"\n",
    "```"
   ]
  },
  {
   "cell_type": "code",
   "execution_count": null,
   "metadata": {},
   "outputs": [],
   "source": [
    "config_path = \"https://github.com/quantumjot/scivision-test-plugin/blob/main/.scivision-config_imagenet.yaml\""
   ]
  },
  {
   "cell_type": "code",
   "execution_count": null,
   "metadata": {},
   "outputs": [],
   "source": [
    "model = load_pretrained_model(config_path, \n",
    "                              allow_install=True)"
   ]
  },
  {
   "cell_type": "code",
   "execution_count": null,
   "metadata": {
    "pycharm": {
     "name": "#%%\n"
    }
   },
   "outputs": [],
   "source": [
    "# let's explore the model object\n",
    "model"
   ]
  },
  {
   "cell_type": "markdown",
   "metadata": {},
   "source": [
    "## Load input image"
   ]
  },
  {
   "cell_type": "code",
   "execution_count": null,
   "metadata": {},
   "outputs": [],
   "source": [
    "# libraries\n",
    "from skimage.io import imread\n",
    "from skimage.transform import resize\n",
    "from tensorflow.keras.applications.imagenet_utils import decode_predictions\n",
    "\n",
    "import matplotlib.pyplot as plt"
   ]
  },
  {
   "cell_type": "code",
   "execution_count": null,
   "metadata": {},
   "outputs": [],
   "source": [
    "inputs = target['datasource']\n",
    "inputs"
   ]
  },
  {
   "cell_type": "code",
   "execution_count": null,
   "metadata": {
    "pycharm": {
     "name": "#%%\n"
    }
   },
   "outputs": [],
   "source": [
    "x = imread(inputs)\n",
    "plt.imshow(x)"
   ]
  },
  {
   "cell_type": "code",
   "execution_count": null,
   "metadata": {},
   "outputs": [],
   "source": [
    "# preprocess: resize to (224, 224) and cast back to 0-255 range\n",
    "X = resize(x, (224, 224), \n",
    "           preserve_range=True, \n",
    "           anti_aliasing=True)"
   ]
  },
  {
   "cell_type": "markdown",
   "metadata": {},
   "source": [
    "## Model predictions"
   ]
  },
  {
   "cell_type": "code",
   "execution_count": null,
   "metadata": {},
   "outputs": [],
   "source": [
    "y = model.predict(X)"
   ]
  },
  {
   "cell_type": "code",
   "execution_count": null,
   "metadata": {},
   "outputs": [],
   "source": [
    "def get_imagenet_label(probs):\n",
    "    return decode_predictions(probs, top=1)[0][0]"
   ]
  },
  {
   "cell_type": "code",
   "execution_count": null,
   "metadata": {
    "pycharm": {
     "name": "#%%\n"
    }
   },
   "outputs": [],
   "source": [
    "plt.figure()\n",
    "plt.imshow(x)\n",
    "_, image_class, class_confidence = get_imagenet_label(y)\n",
    "plt.title(\"{} : {:.2f}%\".format(image_class, class_confidence * 100))\n",
    "plt.show()"
   ]
  }
 ],
 "metadata": {
  "kernelspec": {
   "display_name": "Python 3 (ipykernel)",
   "language": "python",
   "name": "python3"
  },
  "language_info": {
   "codemirror_mode": {
    "name": "ipython",
    "version": 3
   },
   "file_extension": ".py",
   "mimetype": "text/x-python",
   "name": "python",
   "nbconvert_exporter": "python",
   "pygments_lexer": "ipython3",
   "version": "3.9.7"
  }
 },
 "nbformat": 4,
 "nbformat_minor": 4
}
