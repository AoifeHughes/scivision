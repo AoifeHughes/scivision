{
 "cells": [
  {
   "cell_type": "markdown",
   "id": "1e078eb7",
   "metadata": {},
   "source": [
    "## test notebook for querying scivision catalogs"
   ]
  },
  {
   "cell_type": "code",
   "execution_count": 1,
   "id": "f87373cf",
   "metadata": {},
   "outputs": [],
   "source": [
    "from scivision import catalog"
   ]
  },
  {
   "cell_type": "code",
   "execution_count": 2,
   "id": "b8db5021",
   "metadata": {},
   "outputs": [],
   "source": [
    "my_query = {\n",
    "    \"institution\": \"alan-turing-institute\", \n",
    "    \"domain\": \"earth-observation\", \n",
    "    \"task\": \"segmentation\",\n",
    "}"
   ]
  },
  {
   "cell_type": "code",
   "execution_count": 3,
   "id": "8a328688",
   "metadata": {},
   "outputs": [
    {
     "data": {
      "text/plain": [
       "[{'task': 'segmentation',\n",
       "  'domain': 'earth-observation',\n",
       "  'datasource': 'empiar-10340',\n",
       "  'model': 'github.com/alan-turing-institute/cv-algortithm',\n",
       "  'github_branch': 'master',\n",
       "  'language': 'R',\n",
       "  'institution': 'alan-turing-institute',\n",
       "  'tags': \"['help-needed']\"},\n",
       " {'task': 'segmentation',\n",
       "  'domain': 'earth-observation',\n",
       "  'datasource': 'intake-catalog-1.yml',\n",
       "  'model': 'github.com/alan-turing-institute/cv-algortithm',\n",
       "  'github_branch': 'master',\n",
       "  'language': 'Python3',\n",
       "  'institution': 'alan-turing-institute',\n",
       "  'tags': \"['help-needed']\"}]"
      ]
     },
     "execution_count": 3,
     "metadata": {},
     "output_type": "execute_result"
    }
   ],
   "source": [
    "catalog.query(my_query)"
   ]
  },
  {
   "cell_type": "code",
   "execution_count": null,
   "id": "07584373",
   "metadata": {},
   "outputs": [],
   "source": []
  }
 ],
 "metadata": {
  "kernelspec": {
   "display_name": "Python [conda env:scivision]",
   "language": "python",
   "name": "conda-env-scivision-py"
  },
  "language_info": {
   "codemirror_mode": {
    "name": "ipython",
    "version": 3
   },
   "file_extension": ".py",
   "mimetype": "text/x-python",
   "name": "python",
   "nbconvert_exporter": "python",
   "pygments_lexer": "ipython3",
   "version": "3.9.5"
  }
 },
 "nbformat": 4,
 "nbformat_minor": 5
}
